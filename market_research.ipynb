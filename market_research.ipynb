{
 "cells": [
  {
   "cell_type": "code",
   "execution_count": 1,
   "metadata": {},
   "outputs": [],
   "source": [
    "# Import Packages\n",
    "\n",
    "import googlemaps\n",
    "import pandas as pd\n",
    "from geopy.distance import geodesic\n",
    "import time"
   ]
  },
  {
   "cell_type": "code",
   "execution_count": 1,
   "metadata": {},
   "outputs": [
    {
     "ename": "ValueError",
     "evalue": "could not convert string to float: ''",
     "output_type": "error",
     "traceback": [
      "\u001b[0;31m---------------------------------------------------------------------------\u001b[0m",
      "\u001b[0;31mValueError\u001b[0m                                Traceback (most recent call last)",
      "\u001b[0;32m/var/folders/pl/shlz8d1n1gg9wbh18tdf90cc0000gn/T/ipykernel_34290/2285425407.py\u001b[0m in \u001b[0;36m<module>\u001b[0;34m\u001b[0m\n\u001b[1;32m     75\u001b[0m \u001b[0mapi_key\u001b[0m \u001b[0;34m=\u001b[0m \u001b[0minput\u001b[0m\u001b[0;34m(\u001b[0m\u001b[0;34m\"Enter your Google Maps API key: \"\u001b[0m\u001b[0;34m)\u001b[0m\u001b[0;34m\u001b[0m\u001b[0;34m\u001b[0m\u001b[0m\n\u001b[1;32m     76\u001b[0m \u001b[0mlocation\u001b[0m \u001b[0;34m=\u001b[0m \u001b[0minput\u001b[0m\u001b[0;34m(\u001b[0m\u001b[0;34m\"Enter your location (address, city, etc.): \"\u001b[0m\u001b[0;34m)\u001b[0m\u001b[0;34m\u001b[0m\u001b[0;34m\u001b[0m\u001b[0m\n\u001b[0;32m---> 77\u001b[0;31m \u001b[0mdistance\u001b[0m \u001b[0;34m=\u001b[0m \u001b[0mfloat\u001b[0m\u001b[0;34m(\u001b[0m\u001b[0minput\u001b[0m\u001b[0;34m(\u001b[0m\u001b[0;34m\"Enter the search distance in miles: \"\u001b[0m\u001b[0;34m)\u001b[0m\u001b[0;34m)\u001b[0m\u001b[0;34m\u001b[0m\u001b[0;34m\u001b[0m\u001b[0m\n\u001b[0m\u001b[1;32m     78\u001b[0m \u001b[0mplace_types\u001b[0m \u001b[0;34m=\u001b[0m \u001b[0minput\u001b[0m\u001b[0;34m(\u001b[0m\u001b[0;34m\"Enter a comma-separated list of place types (e.g., clinic,nursing_home,day_program,adult_day_care): \"\u001b[0m\u001b[0;34m)\u001b[0m\u001b[0;34m.\u001b[0m\u001b[0mlower\u001b[0m\u001b[0;34m(\u001b[0m\u001b[0;34m)\u001b[0m\u001b[0;34m\u001b[0m\u001b[0;34m\u001b[0m\u001b[0m\n\u001b[1;32m     79\u001b[0m \u001b[0;34m\u001b[0m\u001b[0m\n",
      "\u001b[0;31mValueError\u001b[0m: could not convert string to float: ''"
     ]
    }
   ],
   "source": [
    "\n",
    "def calculate_distance(origin, destination):\n",
    "    return geodesic(origin, destination).miles\n",
    "\n",
    "def extract_phone(place):\n",
    "    return place.get('formatted_phone_number', '') or place.get('international_phone_number', '') or place.get('plus_code', '')\n",
    "\n",
    "def extract_opening_hours(place):\n",
    "    periods = place.get('opening_hours', {}).get('periods', [])\n",
    "    if periods:\n",
    "        return [period.get('open', {}).get('time') for period in periods]\n",
    "    else:\n",
    "        return place.get('opening_hours', {}).get('weekday_text', [])\n",
    "\n",
    "def find_places(api_key, location, distance, place_types):\n",
    "    gmaps = googlemaps.Client(key=api_key)\n",
    "\n",
    "    # Geocoding to get latitude and longitude from the address\n",
    "    geocode_result = gmaps.geocode(location)\n",
    "    lat_lng = geocode_result[0]['geometry']['location']\n",
    "\n",
    "    all_places = []\n",
    "\n",
    "    for place_type in place_types:\n",
    "        # Places API text search for each place type\n",
    "        places_result = gmaps.places(\n",
    "            query=place_type,\n",
    "            location=lat_lng,\n",
    "            radius=distance * 1609.34,  # Convert miles to meters\n",
    "            open_now=False\n",
    "        )\n",
    "\n",
    "        places = []\n",
    "\n",
    "        for place in places_result['results']:\n",
    "            # Calculate the distance from the provided location in miles\n",
    "            place_location = (place['geometry']['location']['lat'], place['geometry']['location']['lng'])\n",
    "            distance_miles = calculate_distance((lat_lng['lat'], lat_lng['lng']), place_location)\n",
    "\n",
    "            # Check if the distance is within the specified search distance\n",
    "            if distance_miles <= distance:\n",
    "                # Extract phone number information\n",
    "                phone_number = extract_phone(place)\n",
    "\n",
    "                # Extract opening hours information\n",
    "                opening_hours = extract_opening_hours(place)\n",
    "\n",
    "                # Extract the primary type (first element in the types array)\n",
    "                primary_type = place.get('types', [])[0] if place.get('types', []) else ''\n",
    "\n",
    "                # Extract website URL\n",
    "                website_url = place.get('url', '')\n",
    "\n",
    "                place_info = {\n",
    "                    'Place_ID': place['place_id'],\n",
    "                    'Name': place['name'],\n",
    "                    'Address': place.get('formatted_address', ''),\n",
    "                    'Type': primary_type,\n",
    "                    'Distance': round(distance_miles, 2),\n",
    "                    'Phone': phone_number,\n",
    "                    'Website': website_url,\n",
    "                    'Opening_Hours': opening_hours                    \n",
    "                }\n",
    "\n",
    "                places.append(place_info)\n",
    "\n",
    "        # Print the count of each type for each object\n",
    "        print(f\"{place_type.capitalize()}: {len(places)}\")\n",
    "\n",
    "        # Extend the list of all places with the places for the current type\n",
    "        all_places.extend(places)\n",
    "\n",
    "    return all_places\n",
    "\n",
    "# Prompt user for API key, location, distance, and place types\n",
    "api_key = input(\"Enter your Google Maps API key: \")\n",
    "location = input(\"Enter your location (address, city, etc.): \")\n",
    "distance = float(input(\"Enter the search distance in miles: \"))\n",
    "place_types = input(\"Enter a comma-separated list of place types (e.g., clinic,nursing_home,day_program,adult_day_care): \").lower()\n",
    "\n",
    "# Convert place types to a list\n",
    "place_types_list = [place_type.strip() for place_type in place_types.split(',')]\n",
    "\n",
    "# Find places based on user input\n",
    "all_places = find_places(api_key, location, distance, place_types_list)\n",
    "\n",
    "# Create DataFrame from the combined results\n",
    "df = pd.DataFrame(all_places)\n",
    "\n",
    "# Filter the DataFrame to keep only unique places based on 'Place_ID'\n",
    "df_unique = df.drop_duplicates(subset='Place_ID')\n",
    "\n",
    "# Sort the DataFrame by 'Distance' in ascending order\n",
    "df_unique = df_unique[df_unique['Distance'] <= distance].sort_values(by='Distance')\n",
    "\n",
    "# Save the unique DataFrame to an Excel file\n",
    "output_file = 'MarketResearch.xlsx'\n",
    "df_unique.to_excel(output_file, index=False)\n",
    "print(f\"Results saved to {output_file}\")\n",
    "\n",
    "# Display a few rows of the sorted DataFrame\n",
    "display(df_unique.head())\n"
   ]
  },
  {
   "cell_type": "code",
   "execution_count": 3,
   "metadata": {},
   "outputs": [
    {
     "name": "stdout",
     "output_type": "stream",
     "text": [
      "Number of rows: 76\n",
      "Number of columns: 8\n"
     ]
    }
   ],
   "source": [
    "# Read the Excel file into a DataFrame\n",
    "df = pd.read_excel('MarketResearch.xlsx')\n",
    "\n",
    "# Count rows and columns\n",
    "num_rows, num_columns = df.shape\n",
    "\n",
    "# Print the counts\n",
    "print(f\"Number of rows: {num_rows}\")\n",
    "print(f\"Number of columns: {num_columns}\")\n"
   ]
  }
 ],
 "metadata": {
  "kernelspec": {
   "display_name": "base",
   "language": "python",
   "name": "python3"
  },
  "language_info": {
   "codemirror_mode": {
    "name": "ipython",
    "version": 3
   },
   "file_extension": ".py",
   "mimetype": "text/x-python",
   "name": "python",
   "nbconvert_exporter": "python",
   "pygments_lexer": "ipython3",
   "version": "3.9.13"
  }
 },
 "nbformat": 4,
 "nbformat_minor": 2
}
